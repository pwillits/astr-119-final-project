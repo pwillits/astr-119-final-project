{
 "cells": [
  {
   "cell_type": "markdown",
   "metadata": {},
   "source": [
    "# Monty Python Integrator\n",
    "### Written by Eric Griswold, Peter Willits, Daniel Douty and Yaman Ibrahim\n",
    "#### Rather than working individually on different parts of the program, we all got together and worked on one jupyter notebook simultaneously."
   ]
  },
  {
   "cell_type": "code",
   "execution_count": null,
   "metadata": {
    "collapsed": true
   },
   "outputs": [],
   "source": [
    "%matplotlib inline\n",
    "import matplotlib.pyplot as plt\n",
    "import numpy as np\n",
    "\n",
    "def f(x):    \n",
    "    return np.cos(x) #input any integrable function here!"
   ]
  },
  {
   "cell_type": "markdown",
   "metadata": {},
   "source": [
    "### The following function finds the range of the given function on the given domain, and adds 0.5 to each side for aesthetic purposes."
   ]
  },
  {
   "cell_type": "code",
   "execution_count": null,
   "metadata": {
    "collapsed": true
   },
   "outputs": [],
   "source": [
    "c = 0   \n",
    "d = 0\n",
    "def rangefinder(f, lowerbound, upperbound):\n",
    "    xvals = np.linspace(lowerbound, upperbound, 10000)\n",
    "    yvals = []\n",
    "    for i in xvals:\n",
    "        yvals.append(f(i))\n",
    "        \n",
    "    ymin = min(yvals)\n",
    "    ymax = max(yvals)  \n",
    "    \n",
    "    global c \n",
    "    c = ymin - .5\n",
    "    global d\n",
    "    d = ymax + .5\n",
    "    \n",
    "    return c, d"
   ]
  },
  {
   "cell_type": "markdown",
   "metadata": {},
   "source": [
    "### This function creates random points for the monte carlo integral, classifies them by position, and returns the fraction of points that lie in between the curve and the x-axis"
   ]
  },
  {
   "cell_type": "code",
   "execution_count": null,
   "metadata": {
    "collapsed": true
   },
   "outputs": [],
   "source": [
    "def notplotter(f, lowerbound, upperbound, n):\n",
    "    \n",
    "    x = np.random.uniform(lowerbound, upperbound,n)\n",
    "    y = np.random.uniform(c,d,n)\n",
    "\n",
    "    under = np.where((f(x) > y) & (y > 0))[0]\n",
    "    over = np.where((f(x) < y) & (y < 0))[0]\n",
    "    outsideover = np.where((f(x) >= y) & (y < 0))[0]\n",
    "    outsideunder = np.where((f(x) <= y) & (y > 0))[0]\n",
    "    \n",
    "    underlen = len(under)\n",
    "    overlen = len(over)\n",
    "    outsideunderlen = len(outsideunder)\n",
    "    outsideoverlen = len(outsideover)\n",
    "    \n",
    "    frac = (underlen-overlen)/(underlen+overlen+outsideunderlen+outsideoverlen)\n",
    "    \n",
    "    return frac"
   ]
  },
  {
   "cell_type": "markdown",
   "metadata": {},
   "source": [
    "### This function does the same thing, but it also plots the points, along with the function and x-axis. We made two similar functions because we needed the simpler form of it above so we could efficiently use its output in calculations, while still keeping this version that outputs the plot."
   ]
  },
  {
   "cell_type": "code",
   "execution_count": null,
   "metadata": {
    "collapsed": true
   },
   "outputs": [],
   "source": [
    "def plotter(f, lowerbound, upperbound, n):\n",
    "    \n",
    "    x = np.random.uniform(lowerbound, upperbound,n)\n",
    "    y = np.random.uniform(c,d,n)\n",
    "    line = np.linspace(lowerbound, upperbound, 10000)\n",
    "    \n",
    "    under = np.where((f(x) > y) & (y > 0))[0]\n",
    "    over = np.where((f(x) < y) & (y < 0))[0]\n",
    "    outsideover = np.where((f(x) >= y) & (y < 0))[0]\n",
    "    outsideunder = np.where((f(x) <= y) & (y > 0))[0]\n",
    "    \n",
    "    underlen = len(under)\n",
    "    overlen = len(over)\n",
    "    outsideunderlen = len(outsideunder)\n",
    "    outsideoverlen = len(outsideover)\n",
    "    \n",
    "    fig = plt.figure(figsize=(7,7))\n",
    "    plt.xlim([lowerbound, upperbound])\n",
    "    plt.ylim([c,d])\n",
    "    plt.plot(x[under],y[under],',', color = \"green\")\n",
    "    plt.plot(x[over],y[over],',', color = \"green\")\n",
    "    plt.plot(x[outsideunder],y[outsideunder],',', color = \"red\")\n",
    "    plt.plot(x[outsideover],y[outsideover],',', color = \"red\")\n",
    "    plt.plot(line,f(line),',', color = 'black')\n",
    "    plt.plot(line, f(line)-f(line),',', color = 'black')\n",
    "    plt.show()\n",
    "    \n",
    "    frac = (underlen-overlen)/(underlen+overlen+outsideunderlen+outsideoverlen)\n",
    "    \n",
    "    return frac"
   ]
  },
  {
   "cell_type": "markdown",
   "metadata": {},
   "source": [
    "### This is the basic integral calulation."
   ]
  },
  {
   "cell_type": "code",
   "execution_count": null,
   "metadata": {
    "collapsed": true
   },
   "outputs": [],
   "source": [
    "def integrator(f, lowerbound, upperbound, n):\n",
    "    \n",
    "    rangefinder(f, lowerbound, upperbound)\n",
    "    \n",
    "    frac = notplotter(f, lowerbound, upperbound, n)\n",
    "    \n",
    "    area = (d-c)*(upperbound-lowerbound)\n",
    "    \n",
    "    integral = area*frac\n",
    "\n",
    "    return integral"
   ]
  },
  {
   "cell_type": "markdown",
   "metadata": {},
   "source": [
    "### This is the integral calculation using the function that graphs the given function and monte carlo points, which satisfies parts 1 and 3 of the assignment."
   ]
  },
  {
   "cell_type": "code",
   "execution_count": null,
   "metadata": {},
   "outputs": [],
   "source": [
    "def integratorplotter(f, lowerbound, upperbound, n):\n",
    "    \n",
    "    rangefinder(f, lowerbound, upperbound)\n",
    "    \n",
    "    frac = plotter(f, lowerbound, upperbound, n)\n",
    "    \n",
    "    area = (d-c)*(upperbound-lowerbound)\n",
    "    \n",
    "    integral = area*frac\n",
    "    \n",
    "    print (\"F({}, {}) found to be {}\".format(lowerbound, upperbound, integral))\n",
    "    return integral"
   ]
  },
  {
   "cell_type": "code",
   "execution_count": null,
   "metadata": {
    "collapsed": true
   },
   "outputs": [],
   "source": []
  },
  {
   "cell_type": "code",
   "execution_count": null,
   "metadata": {},
   "outputs": [],
   "source": [
    "def integratortolerance(f, lowerbound, upperbound, n):\n",
    "    \n",
    "    rangefinder(f, lowerbound, upperbound)\n",
    "    \n",
    "    frac = notplotter(f, lowerbound, upperbound, n)\n",
    "    \n",
    "    area = (d-c)*(upperbound-lowerbound)\n",
    "    \n",
    "    integral = area*frac\n",
    "    \n",
    "    integralarray = np.zeros(100)\n",
    "    \n",
    "    for i in range (100):\n",
    "        integralarray[i] = integrator(f, lowerbound, upperbound, n)\n",
    "    \n",
    "    return integralarray"
   ]
  },
  {
   "cell_type": "code",
   "execution_count": null,
   "metadata": {},
   "outputs": [],
   "source": [
    "def toleranceplot(f, lowerbound, upperbound):\n",
    "    n = 100\n",
    "    integralarray = np.zeros(100)\n",
    "    \n",
    "    for i in range (100):        \n",
    "        narray = np.full(100, n)\n",
    "        \n",
    "        for i in range (100):\n",
    "            integralarray[i] = integrator(f, lowerbound, upperbound, n)        \n",
    "            \n",
    "        plt.plot (narray, integralarray,'.', color = 'green', alpha=0.02)\n",
    "        n += 1000\n",
    "    plt.xlim([90, 100000])   \n",
    "    plt.show \n",
    "    return"
   ]
  },
  {
   "cell_type": "code",
   "execution_count": null,
   "metadata": {},
   "outputs": [],
   "source": [
    "def tolerance(f, lowerbound, upperbound, n):\n",
    "    \n",
    "    rangefinder(f, lowerbound, upperbound)\n",
    "    \n",
    "    frac = notplotter(f, lowerbound, upperbound, n)\n",
    "    \n",
    "    area = (d-c)*(upperbound-lowerbound)\n",
    "    \n",
    "    integral = area*frac\n",
    "    \n",
    "    n += 10000\n",
    "    \n",
    "    frac2 = notplotter(f, lowerbound, upperbound, n)\n",
    "    \n",
    "    area2 = (d-c)*(upperbound-lowerbound)\n",
    "    \n",
    "    moreaccurateintegral = area2*frac2\n",
    "    \n",
    "    tolerance = moreaccurateintegral-integral\n",
    "    \n",
    "    return tolerance"
   ]
  },
  {
   "cell_type": "code",
   "execution_count": null,
   "metadata": {},
   "outputs": [],
   "source": [
    "def finalintegrator(f, lowerbound, upperbound, desired_tolerance):\n",
    "    n = 1000\n",
    "    counter = 1\n",
    "    t = abs(tolerance(f, lowerbound, upperbound, n))\n",
    "    while (t > desired_tolerance):\n",
    "        n += 1000\n",
    "        counter += 1\n",
    "        t = abs(tolerance(f, lowerbound, upperbound, n))\n",
    "    integratorplotter(f, lowerbound, upperbound, n)\n",
    "    return \"specified tolerance reached in {} iterations, using {} points\".format(counter, n)"
   ]
  },
  {
   "cell_type": "markdown",
   "metadata": {},
   "source": [
    "### specify lowerbound and upperbound (domain) here"
   ]
  },
  {
   "cell_type": "code",
   "execution_count": null,
   "metadata": {
    "collapsed": true
   },
   "outputs": [],
   "source": []
  },
  {
   "cell_type": "code",
   "execution_count": null,
   "metadata": {},
   "outputs": [],
   "source": [
    "finalintegrator(f, 0, 1.75, .0001)   #(function, lowerbound, upperbound, number of points)\n",
    "\n"
   ]
  },
  {
   "cell_type": "code",
   "execution_count": null,
   "metadata": {},
   "outputs": [],
   "source": []
  },
  {
   "cell_type": "markdown",
   "metadata": {},
   "source": [
    "### this takes a few minutes to run, but it graphs the convergence of integral values calculated using the monte carlo method, with number of points used increasing along the x axis. "
   ]
  },
  {
   "cell_type": "code",
   "execution_count": null,
   "metadata": {},
   "outputs": [],
   "source": [
    "toleranceplot(np.cos, 0, 1.75)"
   ]
  },
  {
   "cell_type": "code",
   "execution_count": null,
   "metadata": {
    "collapsed": true
   },
   "outputs": [],
   "source": []
  },
  {
   "cell_type": "code",
   "execution_count": null,
   "metadata": {
    "collapsed": true
   },
   "outputs": [],
   "source": []
  }
 ],
 "metadata": {
  "kernelspec": {
   "display_name": "Python 3",
   "language": "python",
   "name": "python3"
  },
  "language_info": {
   "codemirror_mode": {
    "name": "ipython",
    "version": 3
   },
   "file_extension": ".py",
   "mimetype": "text/x-python",
   "name": "python",
   "nbconvert_exporter": "python",
   "pygments_lexer": "ipython3",
   "version": "3.6.3"
  }
 },
 "nbformat": 4,
 "nbformat_minor": 2
}
