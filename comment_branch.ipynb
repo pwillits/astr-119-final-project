{
 "cells": [
  {
   "cell_type": "code",
   "execution_count": 1,
   "metadata": {},
   "outputs": [
    {
     "name": "stderr",
     "output_type": "stream",
     "text": [
      "/Library/Frameworks/Python.framework/Versions/3.6/lib/python3.6/site-packages/matplotlib/font_manager.py:229: UserWarning: Matplotlib is building the font cache using fc-list. This may take a moment.\n",
      "  'Matplotlib is building the font cache using fc-list. '\n"
     ]
    }
   ],
   "source": [
    "%matplotlib inline\n",
    "import matplotlib.pyplot as plt\n",
    "import numpy as np"
   ]
  },
  {
   "cell_type": "code",
   "execution_count": 2,
   "metadata": {},
   "outputs": [],
   "source": [
    "lowerlimit = 0      #set domain\n",
    "upperlimit = 1.75\n",
    "def cos(x):         #define function to integrate\n",
    "    y = np.cos(x)\n",
    "    return y"
   ]
  },
  {
   "cell_type": "code",
   "execution_count": 3,
   "metadata": {},
   "outputs": [
    {
     "data": {
      "text/plain": [
       "(-0.678246055649492, 1.5)"
      ]
     },
     "execution_count": 3,
     "metadata": {},
     "output_type": "execute_result"
    }
   ],
   "source": [
    "c = 0        #create variable to store our upper and lower range values\n",
    "d = 0\n",
    "def rangefinder():   #define function to find upper an lower range values\n",
    "    xvals = np.linspace(lowerlimit, upperlimit, 10000)   #create x values\n",
    "    yvals = []           #create an empty array to store y values\n",
    "    for i in xvals:\n",
    "        yvals.append(cos(i))    #add function values to empty y array\n",
    "        \n",
    "    ymin = min(yvals)       #find min of function values\n",
    "    ymax = max(yvals)       #find max of function values\n",
    "    \n",
    "    global c        #pad values wih .5, store as global variables for later use\n",
    "    c = ymin - .5    \n",
    "    global d\n",
    "    d = ymax + .5  \n",
    "    \n",
    "    return c, d      #return padded values\n",
    "rangefinder()"
   ]
  },
  {
   "cell_type": "code",
   "execution_count": 5,
   "metadata": {},
   "outputs": [
    {
     "name": "stdout",
     "output_type": "stream",
     "text": [
      "[1.00320566 0.50817726 1.07337071 ... 0.68227475 1.08725442 0.23035573]\n",
      "[ 1.03728025 -0.05788848 -0.17012663 ...  1.08143727  0.71568716\n",
      " -0.40831795]\n",
      "[   1    2    5 ... 9994 9996 9999]\n",
      "[   0    3    4 ... 9995 9997 9998]\n"
     ]
    }
   ],
   "source": [
    "n = 10000\n",
    "x = np.random.uniform(lowerlimit,upperlimit,n)     #creates n random x values within domain\n",
    "y = np.random.uniform(c,d,n)                    #creates n random y values within range\n",
    "\n",
    "under = np.where(cos(x) > y)[0]\n",
    "over = np.where(cos(x) <= y)[0]\n",
    "\n",
    "print (x)\n",
    "print (y)\n",
    "print (under)\n",
    "print (over)"
   ]
  },
  {
   "cell_type": "code",
   "execution_count": 6,
   "metadata": {},
   "outputs": [
    {
     "name": "stdout",
     "output_type": "stream",
     "text": [
      "0.5639\n",
      "-0.678246055649492\n",
      "1.5\n",
      "3.8119305973866107\n",
      "2.1495476638663096\n"
     ]
    }
   ],
   "source": [
    "frac = len(under)/(len(under)+len(over))    #defines ratio of integral values:non integral values\n",
    "area = (d-c)*(upperlimit-lowerlimit)    #finds the area of the box (domain*range)\n",
    "integral = area*frac                  #multiplies the area of the box*the integral ratio\n",
    "print (frac)\n",
    "print (c)\n",
    "print(d)\n",
    "print(area)\n",
    "print (integral)"
   ]
  },
  {
   "cell_type": "code",
   "execution_count": null,
   "metadata": {},
   "outputs": [],
   "source": []
  }
 ],
 "metadata": {
  "kernelspec": {
   "display_name": "Python 3",
   "language": "python",
   "name": "python3"
  },
  "language_info": {
   "codemirror_mode": {
    "name": "ipython",
    "version": 3
   },
   "file_extension": ".py",
   "mimetype": "text/x-python",
   "name": "python",
   "nbconvert_exporter": "python",
   "pygments_lexer": "ipython3",
   "version": "3.6.5"
  }
 },
 "nbformat": 4,
 "nbformat_minor": 2
}
